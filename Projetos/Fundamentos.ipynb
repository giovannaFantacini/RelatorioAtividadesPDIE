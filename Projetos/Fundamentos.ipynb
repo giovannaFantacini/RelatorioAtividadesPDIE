{
 "cells": [
  {
   "attachments": {},
   "cell_type": "markdown",
   "metadata": {},
   "source": [
    "## Inserir um quadrado em cada canto da imagem\n",
    "\n",
    "\n",
    "#### No projeto abaixo foi colocado um quadrado preto tamanho 20x20 em cada canto da imagem da lena"
   ]
  },
  {
   "cell_type": "code",
   "execution_count": 1,
   "metadata": {},
   "outputs": [],
   "source": [
    "from PIL import Image\n",
    "import numpy as np\n",
    "\n",
    "im = np.array(Image.open(r'..\\images\\lena_gray_512.tif'))\n",
    "\n",
    "im[0:20,0:20] = 0\n",
    "im[0:20,492:512] = 0\n",
    "im[492:512,0:20] = 0\n",
    "im[492:512,492:512] = 0\n",
    "\n",
    "im_pil = Image.fromarray(im)\n",
    "\n",
    "im_pil.save(r'..\\images\\lena_alterada_quadrado.tif')"
   ]
  },
  {
   "attachments": {},
   "cell_type": "markdown",
   "metadata": {},
   "source": [
    "# Gerar uma imagem com as iniciais do nome\n",
    "\n",
    "Gerar uma imagem com as iniciais do nome: GSF"
   ]
  },
  {
   "cell_type": "code",
   "execution_count": 6,
   "metadata": {},
   "outputs": [
    {
     "data": {
      "image/png": "[encoded data removed]",
      "text/plain": [
       "<Figure size 640x480 with 1 Axes>"
      ]
     },
     "metadata": {},
     "output_type": "display_data"
    }
   ],
   "source": [
    "import numpy as np\n",
    "import matplotlib.pyplot as plt\n",
    "from PIL import Image\n",
    "\n",
    "width = 40\n",
    "height = 40\n",
    "image_matrix = np.zeros([height, width])\n",
    "\n",
    "image_matrix[20:22,11] = 255\n",
    "image_matrix[20,7:11] = 255\n",
    "image_matrix[20:27,7] = 255\n",
    "image_matrix[27,7:12] = 255\n",
    "image_matrix[24:27,11] = 255\n",
    "image_matrix[24,10:13] = 255\n",
    "\n",
    "image_matrix[20,18:23] = 255\n",
    "image_matrix[20:24,18] = 255\n",
    "image_matrix[24,18:22] = 255\n",
    "image_matrix[24:28,22] = 255\n",
    "image_matrix[27,18:22] = 255\n",
    "\n",
    "image_matrix[20:28,30] = 255\n",
    "image_matrix[20,30:35] = 255\n",
    "image_matrix[23,30:34] = 255\n",
    "\n",
    "\n",
    "plt.imshow(image_matrix, cmap='gray')\n",
    "plt.show()\n",
    "im_pil = Image.fromarray(image_matrix)\n",
    "im_pil.save(r'C:\\Users\\Giova\\OneDrive - ifsp.edu.br\\Imagens\\Iniciais.tif')\n"
   ]
  }
 ],
 "metadata": {
  "kernelspec": {
   "display_name": "Python 3",
   "language": "python",
   "name": "python3"
  },
  "language_info": {
   "codemirror_mode": {
    "name": "ipython",
    "version": 3
   },
   "file_extension": ".py",
   "mimetype": "text/x-python",
   "name": "python",
   "nbconvert_exporter": "python",
   "pygments_lexer": "ipython3",
   "version": "3.11.2"
  },
  "orig_nbformat": 4,
  "vscode": {
   "interpreter": {
    "hash": "1f3a2fe3d08c209d6dd1d0f4f85f4d6ad18954a4f1ba6d22473d1eb9d8a40354"
   }
  }
 },
 "nbformat": 4,
 "nbformat_minor": 2
}
